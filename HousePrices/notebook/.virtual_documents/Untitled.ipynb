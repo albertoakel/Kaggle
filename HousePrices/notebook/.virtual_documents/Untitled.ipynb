


import pandas as pd
import numpy as np
import matplotlib.pyplot as plt
import seaborn as sns
import warnings
warnings.filterwarnings("ignore", category=FutureWarning)


# Configurações estéticas
sns.set(style="whitegrid", palette="muted", font_scale=1.1)
%matplotlib inline

# Carregando os dados
df = pd.read_csv("/home/akel/PycharmProjects/Kaggle/HousePrices/data/train.csv")

df.shape, df.columns[:10]





# Visualização geral
df.describe()





plt.figure(figsize=(10, 5))
sns.histplot(df["SalePrice"], bins=30, color="royalblue")
plt.title("Distribuição do Preço de Venda")
plt.show()





sns.scatterplot(x="GrLivArea", y="SalePrice", data=df)
plt.title("Área construída vs Preço de venda")
plt.show()





sns.scatterplot(x="TotalBsmtSF", y="SalePrice", data=df)
plt.title("Área do porão vs Preço de venda")
plt.show()





sns.scatterplot(x="GarageArea", y="SalePrice", data=df)
plt.title("Tamanho da garagem vs Preço de venda")
plt.show()








sns.boxplot(x="OverallQual", y="SalePrice", data=df)
plt.title("Qualidade geral vs Preço de venda")
plt.show()





plt.figure(figsize=(12, 6))
sns.boxplot(x="Neighborhood", y="SalePrice", data=df)
plt.xticks(rotation=45)
plt.title("Preço de venda por bairro")
plt.show()






sns.boxplot(x="ExterQual", y="SalePrice", data=df, order=["Po", "Fa", "TA", "Gd", "Ex"])
plt.title("Qualidade externa vs Preço de venda")
plt.show()






