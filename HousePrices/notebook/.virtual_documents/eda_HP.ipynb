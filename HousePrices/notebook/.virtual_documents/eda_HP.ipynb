





import pandas as pd
import numpy as np
import matplotlib.pyplot as plt
import seaborn as sns
import warnings
warnings.filterwarnings("ignore", category=FutureWarning)


# Configurações estéticas
sns.set(style="whitegrid", palette="muted", font_scale=1.1)
%matplotlib inline

# Carregando os dados
df = pd.read_csv("/home/akel/PycharmProjects/Kaggle/HousePrices/data/train.csv")
print(df.shape)
df.head()





# Informações básicas
#df.info()

# Valores nulos
missing = df.isnull().sum()
missing = missing[missing > 0].sort_values(ascending=False)
#print("Colunas com valores ausentes ou nulos:\n", missing)

# Estatísticas descritivas
df.describe()






plt.figure(figsize=(15, 5))
sns.histplot(df["SalePrice"], color='royalblue', bins=30)
plt.title("Distribuição do Preço de Venda")
plt.xlabel("SalePrice")
plt.ylabel("Frequência")
plt.show()





# Correlação com o preço de venda
corr = df.corr(numeric_only=True)   # realizar correlacao apenas nas variaveis numéricas                                 
top_corr = corr["SalePrice"].sort_values(ascending=False).head(10) # c
#print("Top correlações com SalePrice:\n", top_corr)
display(top_corr)
# Heatmap das 10 principais variáveis
top_features = top_corr.index
plt.figure(figsize=(10, 8))
sns.heatmap(df[top_features].corr(), annot=True, cmap="coolwarm", square=True)
plt.title("Correlação entre variáveis mais associadas ao preço")
plt.show()





# Configuração da figura e eixos
fig, axs = plt.subplots(3, 2, figsize=(20, 18))
fig.suptitle('Análise de Relação entre Características e Preço de Venda', y=1.02, fontsize=16)

# Gráfico 1: Qualidade geral
sns.boxplot(data=df, x="OverallQual", y="SalePrice", ax=axs[0, 0])
axs[0, 0].set_title("Qualidade Geral x Preço de Venda", pad=12)
axs[0, 0].set_xlabel("Nota de Qualidade (1-10)")
axs[0, 0].set_ylabel("Preço ($)")

# Gráfico 2: Condição geral
sns.boxplot(x="OverallCond", y="SalePrice", data=df, ax=axs[0, 1])
axs[0, 1].set_title("Condição Geral x Preço de Venda", pad=12)
axs[0, 1].set_xlabel("Nota de Condição (1-10)")
axs[0, 1].set_ylabel("")

# Gráfico 3: Década de construção
df["DecadeBuilt"] = (df["YearBuilt"] // 10) * 10
sns.boxplot(x="DecadeBuilt", y="SalePrice", data=df, ax=axs[1, 0])
axs[1, 0].set_title("Década de Construção x Preço de Venda", pad=12)
axs[1, 0].set_xlabel("Década")
axs[1, 0].set_ylabel("Preço ($)")
axs[1, 0].tick_params(axis='x', rotation=45)

# Gráfico 4: Tipo de garagem
sns.boxplot(x="GarageType", y="SalePrice", data=df, ax=axs[1, 1])
axs[1, 1].set_title("Tipo de Garagem x Preço de Venda", pad=12)
axs[1, 1].set_xlabel("Tipo de Garagem")
axs[1, 1].set_ylabel("")
axs[1, 1].tick_params(axis='x', rotation=45)

# Gráfico 5: Qualidade externa
sns.boxplot(x="ExterQual", y="SalePrice", data=df, 
            order=["Po", "Fa", "TA", "Gd", "Ex"], ax=axs[2, 0])
axs[2, 0].set_title("Qualidade Externa x Preço de Venda", pad=12)
axs[2, 0].set_xlabel("Qualidade (Po-Ex)")
axs[2, 0].set_ylabel("Preço ($)")

# Gráfico 6: Qualidade da cozinha
sns.boxplot(x="KitchenQual", y="SalePrice", data=df, 
            order=["Po", "Fa", "TA", "Gd", "Ex"], ax=axs[2, 1])
axs[2, 1].set_title("Qualidade da Cozinha x Preço de Venda", pad=12)
axs[2, 1].set_xlabel("Qualidade (Po-Ex)")
axs[2, 1].set_ylabel("")

# Ajustes finais
plt.tight_layout()
plt.show()






# Identificando outliers em área útil
# opc1. definindo valor
outliers = df[df["GrLivArea"] > 4000]
# Quantos estão acima de 4000?
outliers_GLA = df[df["GrLivArea"] > 4000 ]
print(f"{len(outliers_GLA )} casas com área de 4000 m2.")



# Configuração dos subplots
fig, axs = plt.subplots(4, 2, figsize=(18, 24))
fig.suptitle('Análise de Outliers em Features Numéricas', y=1.02, fontsize=16)

# Gráfico 1 - Área Construída
sns.scatterplot(x="GrLivArea", y="SalePrice", data=df, ax=axs[0, 0])
axs[0, 0].axvline(4000, color='red', linestyle='--', label='Limite de outliers')
axs[0, 0].set_title("Área Habitável vs Preço")
axs[0, 0].legend()

# Gráfico 2 - Boxplot Área Construída
sns.boxplot(y=df["GrLivArea"], ax=axs[0, 1])
axs[0, 1].set_title("Distribuição da Área Habitável")
axs[0, 1].set_ylabel("Metros Quadrados")

# opc2. definindo percentual quantile

# Gráfico 3 - Área do Porão
sns.scatterplot(x="TotalBsmtSF", y="SalePrice", data=df, ax=axs[1, 0])
basement_thresh = df["TotalBsmtSF"].quantile(0.99)
axs[1, 0].axvline(basement_thresh, color='red', linestyle='--', 
                  label=f'99º percentil ({basement_thresh:.0f}m²)')
axs[1, 0].set_title("Área do Porão")
axs[1, 0].legend()

# Gráfico 4 - Boxplot Área do Porão
sns.boxplot(y=df["TotalBsmtSF"], ax=axs[1, 1])
axs[1, 1].set_title("Distribuição da Área do Porão")
axs[1, 1].set_ylabel("Metros Quadrados")


# Gráfico 5 - Boxplot Área de Garage
sns.scatterplot(x="GarageArea", y="SalePrice", data=df, ax=axs[2, 0])
basement_thresh = df["GarageArea"].quantile(0.99)
axs[2, 0].axvline(basement_thresh, color='red', linestyle='--', 
                  label=f'99º percentil ({basement_thresh:.0f}m²)')
axs[2, 0].set_title("Área de Garage")
axs[2, 0].legend()

# Gráfico 6 - Boxplot Área do Porão
sns.boxplot(y=df["GarageArea"], ax=axs[2, 1])
axs[2, 1].set_title("Distribuição da GarageArea")
axs[2, 1].set_ylabel("Metros Quadrados")


# Gráfico 7 - Boxplot Área de Garage
sns.scatterplot(x="1stFlrSF", y="SalePrice", data=df, ax=axs[3, 0])
basement_thresh = df["1stFlrSF"].quantile(0.99)
axs[3, 0].axvline(basement_thresh, color='red', linestyle='--', 
                  label=f'99º percentil ({basement_thresh:.0f}m²)')
axs[3, 0].set_title("Área do Primeiro Andar")
axs[3, 0].legend()

# Gráfico 8 - Boxplot Área do Porão
sns.boxplot(y=df["1stFlrSF"], ax=axs[3, 1])
axs[3, 1].set_title("Distribuição da Área do Primeiro Andar")
axs[3, 1].set_ylabel("Metros Quadrados")


# Ajustes finais
plt.tight_layout()
plt.show()

# # Quantos estão acima do percentil 99?
# outliers_bsmt = df[df["TotalBsmtSF"] > df["TotalBsmtSF"].quantile(0.99)]
# print(outliers_bsmt[["TotalBsmtSF", "SalePrice"]])
# print(f"{len(outliers_bsmt)} casas com área de porão acima do percentil 99.")




Q1 = df["SalePrice"].quantile(0.25)
Q3 = df["SalePrice"].quantile(0.75)
IQR = Q3 - Q1

# Limites inferior e superior
lim_inf = Q1 - 1.5 * IQR
lim_sup = Q3 + 1.5 * IQR

outliers_price = df[(df["SalePrice"] < lim_inf) | (df["SalePrice"] > lim_sup)]
#print(f"{len(outliers_price)} outliers detectados com base em IQR.")





plt.figure(figsize=(14, 6))
order = df.groupby("Neighborhood")["SalePrice"].median().sort_values().index
sns.boxplot(x="Neighborhood", y="SalePrice", data=df, order=order)
plt.xticks(rotation=45)
plt.title("Preço de venda por bairro")
plt.tight_layout()
plt.show()




